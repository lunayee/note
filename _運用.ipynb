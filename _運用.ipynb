{
  "nbformat": 4,
  "nbformat_minor": 0,
  "metadata": {
    "colab": {
      "name": "_運用.ipynb",
      "provenance": [],
      "authorship_tag": "ABX9TyMxRigVhoWUkB2N1p1rhzNQ",
      "include_colab_link": true
    },
    "kernelspec": {
      "name": "python3",
      "display_name": "Python 3"
    }
  },
  "cells": [
    {
      "cell_type": "markdown",
      "metadata": {
        "id": "view-in-github",
        "colab_type": "text"
      },
      "source": [
        "<a href=\"https://colab.research.google.com/github/lunayee/note/blob/main/_%E9%81%8B%E7%94%A8.ipynb\" target=\"_parent\"><img src=\"https://colab.research.google.com/assets/colab-badge.svg\" alt=\"Open In Colab\"/></a>"
      ]
    },
    {
      "cell_type": "markdown",
      "metadata": {
        "id": "fdbi37wpRTlI"
      },
      "source": [
        "# elif用法"
      ]
    },
    {
      "cell_type": "code",
      "metadata": {
        "id": "IqHRUCvNRXuO"
      },
      "source": [
        "score = int(input('請輸入分數:'))\n",
        "if 100>=score>=90:\n",
        "    print('A')\n",
        "elif 90>=score>=80:\n",
        "    print('B')\n",
        "elif 70>=score>=60:\n",
        "    print('C')\n",
        "elif 60>=score>=0:\n",
        "    print('D')\n",
        "else:\n",
        "    print('輸入錯誤')\n",
        "    \n"
      ],
      "execution_count": null,
      "outputs": []
    },
    {
      "cell_type": "markdown",
      "metadata": {
        "id": "YATVT-cXRbte"
      },
      "source": [
        "# formate"
      ]
    },
    {
      "cell_type": "code",
      "metadata": {
        "id": "N6FuGve5Rcre"
      },
      "source": [
        "a='{0} love {1} {2}'.format('i','you','baby')\n",
        "print(a)\n",
        "\n",
        "a='{a} love {b} {c}'.format(a='i',c='you',b='baby')\n",
        "print(a)\n",
        "\n",
        "a='%c %c %c' % (97,98,99)#記得小寫#\n",
        "print(a)\n",
        "\n",
        "a='%d+%d=%d' % (4,5,4+5)#記得小寫#\n",
        "print(a)\n",
        "\n",
        "a=[int(c) for c in str(63252)]#把字串轉成單一矩陣數列#\n",
        "print(a)"
      ],
      "execution_count": null,
      "outputs": []
    },
    {
      "cell_type": "markdown",
      "metadata": {
        "id": "NRDTTF-hRep4"
      },
      "source": [
        "# print"
      ]
    },
    {
      "cell_type": "code",
      "metadata": {
        "id": "KzAuQIdQRiWf"
      },
      "source": [
        "print('hihi')\n",
        "print()\n",
        "print('我是誰' ,end='我很棒')\n",
        "print('yayayaya')\n",
        "print('讚讚')\n",
        "print('我愛你你是我的茱麗葉')\n",
        "print('''我愛你\n",
        "你是我的茱麗葉''')\n",
        "def sayhello(name):\n",
        "    print('hello,'+name+'你名字有'+str(len(name))+'個字')\n",
        "\n",
        "sayhello('yoyo')\n",
        "sayhello('cocococo')\n",
        "print('請問你的名字是?')\n",
        "name=input()\n",
        "sayhello(name)\n"
      ],
      "execution_count": null,
      "outputs": []
    },
    {
      "cell_type": "markdown",
      "metadata": {
        "id": "Tgw8jFLFRod3"
      },
      "source": [
        "# tuple"
      ]
    },
    {
      "cell_type": "code",
      "metadata": {
        "id": "xtRV0597RntJ"
      },
      "source": [
        "tuple1=(1,2,3,4,5)\n",
        "print(tuple1)\n",
        "\n",
        "tuple1=1,2,3,4,5\n",
        "print(tuple1)\n",
        "\n",
        "tuple1=(1)\n",
        "print(tuple1)#整數#\n",
        "\n",
        "tuple1=1,\n",
        "print(tuple1)#逗號才是tuple關鍵#\n",
        "\n",
        "\n",
        "temp=('呂翊瑄','呂進步','呂明晏')\n",
        "print(temp)\n",
        "\n",
        "temp=temp[:2]+('呂小屁股',)+temp[2:]\n",
        "print(temp)\n",
        "\n",
        "del temp\n",
        "print(temp)\n"
      ],
      "execution_count": null,
      "outputs": []
    },
    {
      "cell_type": "markdown",
      "metadata": {
        "id": "2ADavkMJRvtr"
      },
      "source": [
        "# *應用"
      ]
    },
    {
      "cell_type": "code",
      "metadata": {
        "id": "e3h6BisvRy1U"
      },
      "source": [
        "def myname(name):\n",
        "    print(name+'很棒!')\n",
        "\n",
        "myname('呂翊瑄')\n",
        "\n",
        "def test(*dinner):\n",
        "    print('我最愛吃：'+dinner[0])\n",
        "    print('最難吃:'+dinner[1])\n",
        "\n",
        "test('嘎裡泛','白飯','火鍋','太白粉')\n"
      ],
      "execution_count": null,
      "outputs": []
    },
    {
      "cell_type": "markdown",
      "metadata": {
        "id": "GDnWgxm_R4q0"
      },
      "source": [
        "# 矩陣設定"
      ]
    },
    {
      "cell_type": "code",
      "metadata": {
        "id": "TCcXf5kkR7rj"
      },
      "source": [
        "friend = ['呂翊瑄','樂家瑜','王郁寧','王玉','陳芝妘']\n",
        "print(friend)\n",
        "\n",
        "friend.append('鍾尚宏')\n",
        "print(friend)\n",
        "\n",
        "friend.extend(['徐崇文','謝承峰'])\n",
        "print(friend)\n",
        "\n",
        "friend.insert(0,'呂進步')\n",
        "print(friend)\n",
        "#-----------------------#\n",
        "friend.remove('王玉')\n",
        "print(friend)\n",
        "\n",
        "del friend[2]\n",
        "print(friend)\n",
        "\n",
        "name=friend.pop(2)\n",
        "print(friend)\n",
        "print('被pop的對象是:'+ name)\n",
        "\n",
        "friend.insert(1,['嘻嘻','哈哈'])\n",
        "print(friend)\n",
        "#-------------------------#\n",
        "friend1=friend[1:4]\n",
        "print(friend1)\n",
        "\n",
        "friend1=friend[:4]\n",
        "print(friend1)\n",
        "\n",
        "friend1=friend[2:]\n",
        "print(friend1)\n",
        "\n",
        "friend1=friend[:]\n",
        "print(friend1)\n",
        "#--------------------------#\n",
        "A='呂翊瑄' in friend\n",
        "print(A)\n",
        "\n",
        "A='嘻嘻'in friend[1]\n",
        "print(A)\n",
        "\n",
        "print(friend[1][1])\n",
        "print(friend[3])\n",
        "#--------------------------#\n",
        "B=friend*2\n",
        "print(B)\n",
        "\n",
        "C=friend+B\n",
        "print(C)\n",
        "#--------------------------#\n",
        "A=[1,2,3,4,5,6,7]\n",
        "B=[9,8,7,6,5,4,7]\n",
        "C=list(zip(A,B))\n",
        "print(C)\n"
      ],
      "execution_count": null,
      "outputs": []
    }
  ]
}