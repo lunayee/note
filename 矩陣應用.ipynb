{
  "nbformat": 4,
  "nbformat_minor": 0,
  "metadata": {
    "colab": {
      "name": "矩陣應用.ipynb",
      "provenance": [],
      "authorship_tag": "ABX9TyPR21h63SP/dVzF8l4xPsDo",
      "include_colab_link": true
    },
    "kernelspec": {
      "name": "python3",
      "display_name": "Python 3"
    }
  },
  "cells": [
    {
      "cell_type": "markdown",
      "metadata": {
        "id": "view-in-github",
        "colab_type": "text"
      },
      "source": [
        "<a href=\"https://colab.research.google.com/github/lunayee/note/blob/main/%E7%9F%A9%E9%99%A3%E6%87%89%E7%94%A8.ipynb\" target=\"_parent\"><img src=\"https://colab.research.google.com/assets/colab-badge.svg\" alt=\"Open In Colab\"/></a>"
      ]
    },
    {
      "cell_type": "code",
      "metadata": {
        "colab": {
          "base_uri": "https://localhost:8080/"
        },
        "id": "PsVx5HFGMF8A",
        "outputId": "3e4e1124-36bd-40e8-9f72-f1bb0729dfcf"
      },
      "source": [
        "friend = ['呂xx','樂zz','王cc','王vv','陳bb']\n",
        "print(friend)\n",
        "\n",
        "friend.append('鍾nn')\n",
        "print(friend)\n",
        "\n",
        "friend.extend(['徐mm','謝aa'])\n",
        "print(friend)\n",
        "\n",
        "friend.insert(0,'呂ff')\n",
        "print(friend)\n",
        "#-----------------------#\n",
        "friend.remove('王vv')\n",
        "print(friend)\n",
        "\n",
        "del friend[2]\n",
        "print(friend)\n",
        "\n",
        "name=friend.pop(2)\n",
        "print(friend)\n",
        "print('被pop的對象是:'+ name)\n",
        "\n",
        "friend.insert(1,['嘻嘻','哈哈'])\n",
        "print(friend)\n",
        "#-------------------------#\n",
        "friend1=friend[1:4]\n",
        "print(friend1)\n",
        "\n",
        "friend1=friend[:4]\n",
        "print(friend1)\n",
        "\n",
        "friend1=friend[2:]\n",
        "print(friend1)\n",
        "\n",
        "friend1=friend[:]\n",
        "print(friend1)\n",
        "#--------------------------#\n",
        "A='呂xx' in friend\n",
        "print(A)\n",
        "\n",
        "A='嘻嘻'in friend[1]\n",
        "print(A)\n",
        "\n",
        "print(friend[1][1])\n",
        "print(friend[3])\n",
        "#--------------------------#\n",
        "B=friend*2\n",
        "print(B)\n",
        "\n",
        "C=friend+B\n",
        "print(C)\n",
        "#--------------------------#\n",
        "A=[1,2,3,4,5,6,7]\n",
        "B=[9,8,7,6,5,4,7]\n",
        "C=list(zip(A,B))\n",
        "print(C)\n"
      ],
      "execution_count": 1,
      "outputs": [
        {
          "output_type": "stream",
          "text": [
            "['呂xx', '樂zz', '王cc', '王vv', '陳bb']\n",
            "['呂xx', '樂zz', '王cc', '王vv', '陳bb', '鍾nn']\n",
            "['呂xx', '樂zz', '王cc', '王vv', '陳bb', '鍾nn', '徐mm', '謝aa']\n",
            "['呂ff', '呂xx', '樂zz', '王cc', '王vv', '陳bb', '鍾nn', '徐mm', '謝aa']\n",
            "['呂ff', '呂xx', '樂zz', '王cc', '陳bb', '鍾nn', '徐mm', '謝aa']\n",
            "['呂ff', '呂xx', '王cc', '陳bb', '鍾nn', '徐mm', '謝aa']\n",
            "['呂ff', '呂xx', '陳bb', '鍾nn', '徐mm', '謝aa']\n",
            "被pop的對象是:王cc\n",
            "['呂ff', ['嘻嘻', '哈哈'], '呂xx', '陳bb', '鍾nn', '徐mm', '謝aa']\n",
            "[['嘻嘻', '哈哈'], '呂xx', '陳bb']\n",
            "['呂ff', ['嘻嘻', '哈哈'], '呂xx', '陳bb']\n",
            "['呂xx', '陳bb', '鍾nn', '徐mm', '謝aa']\n",
            "['呂ff', ['嘻嘻', '哈哈'], '呂xx', '陳bb', '鍾nn', '徐mm', '謝aa']\n",
            "True\n",
            "True\n",
            "哈哈\n",
            "陳bb\n",
            "['呂ff', ['嘻嘻', '哈哈'], '呂xx', '陳bb', '鍾nn', '徐mm', '謝aa', '呂ff', ['嘻嘻', '哈哈'], '呂xx', '陳bb', '鍾nn', '徐mm', '謝aa']\n",
            "['呂ff', ['嘻嘻', '哈哈'], '呂xx', '陳bb', '鍾nn', '徐mm', '謝aa', '呂ff', ['嘻嘻', '哈哈'], '呂xx', '陳bb', '鍾nn', '徐mm', '謝aa', '呂ff', ['嘻嘻', '哈哈'], '呂xx', '陳bb', '鍾nn', '徐mm', '謝aa']\n",
            "[(1, 9), (2, 8), (3, 7), (4, 6), (5, 5), (6, 4), (7, 7)]\n"
          ],
          "name": "stdout"
        }
      ]
    }
  ]
}