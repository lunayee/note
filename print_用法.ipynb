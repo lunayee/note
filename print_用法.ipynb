{
  "nbformat": 4,
  "nbformat_minor": 0,
  "metadata": {
    "colab": {
      "name": "print 用法.ipynb",
      "provenance": [],
      "authorship_tag": "ABX9TyNxp1tnawP9qXITtUFkSqZS",
      "include_colab_link": true
    },
    "kernelspec": {
      "name": "python3",
      "display_name": "Python 3"
    }
  },
  "cells": [
    {
      "cell_type": "markdown",
      "metadata": {
        "id": "view-in-github",
        "colab_type": "text"
      },
      "source": [
        "<a href=\"https://colab.research.google.com/github/lunayee/note/blob/main/print_%E7%94%A8%E6%B3%95.ipynb\" target=\"_parent\"><img src=\"https://colab.research.google.com/assets/colab-badge.svg\" alt=\"Open In Colab\"/></a>"
      ]
    },
    {
      "cell_type": "code",
      "metadata": {
        "id": "66uf9GNCPRcc"
      },
      "source": [
        "print('hihi')\n",
        "print()\n",
        "print('我是誰' ,end='我很棒')\n",
        "print('yayayaya')\n",
        "print('讚讚')\n",
        "print('我愛你你是我的茱麗葉')\n",
        "print('''我愛你\n",
        "你是我的茱麗葉''')\n",
        "def sayhello(name):\n",
        "    print('hello,'+name+'你名字有'+str(len(name))+'個字')\n",
        "\n",
        "sayhello('yoyo')\n",
        "sayhello('cocococo')\n",
        "print('請問你的名字是?')\n",
        "name=input()\n",
        "sayhello(name)\n",
        "\n",
        "\n"
      ],
      "execution_count": null,
      "outputs": []
    }
  ]
}