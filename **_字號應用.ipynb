{
  "nbformat": 4,
  "nbformat_minor": 0,
  "metadata": {
    "colab": {
      "name": "*字號應用.ipynb",
      "provenance": [],
      "authorship_tag": "ABX9TyMgdyda84w9V+wJbznyykTL",
      "include_colab_link": true
    },
    "kernelspec": {
      "name": "python3",
      "display_name": "Python 3"
    }
  },
  "cells": [
    {
      "cell_type": "markdown",
      "metadata": {
        "id": "view-in-github",
        "colab_type": "text"
      },
      "source": [
        "<a href=\"https://colab.research.google.com/github/lunayee/note/blob/main/**_%E5%AD%97%E8%99%9F%E6%87%89%E7%94%A8.ipynb\" target=\"_parent\"><img src=\"https://colab.research.google.com/assets/colab-badge.svg\" alt=\"Open In Colab\"/></a>"
      ]
    },
    {
      "cell_type": "code",
      "metadata": {
        "colab": {
          "base_uri": "https://localhost:8080/"
        },
        "id": "ZBDnCDlhJftV",
        "outputId": "42e51d7f-8a11-4983-ac2e-06ff70926126"
      },
      "source": [
        "def myname(name):\n",
        "    print(name+'很棒!')\n",
        "\n",
        "myname('呂翊瑄')\n",
        "\n",
        "def test(*dinner):\n",
        "    print('我最愛吃：'+dinner[0])\n",
        "    print('最難吃:'+dinner[1])\n",
        "\n",
        "test('嘎裡泛','白飯','火鍋','太白粉')\n"
      ],
      "execution_count": 1,
      "outputs": [
        {
          "output_type": "stream",
          "text": [
            "呂翊瑄很棒!\n",
            "我最愛吃：嘎裡泛\n",
            "最難吃:白飯\n"
          ],
          "name": "stdout"
        }
      ]
    }
  ]
}