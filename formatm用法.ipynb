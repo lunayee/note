{
  "nbformat": 4,
  "nbformat_minor": 0,
  "metadata": {
    "colab": {
      "name": "formatm用法.ipynb",
      "provenance": [],
      "authorship_tag": "ABX9TyO+t0OT5shfvONL9Rm72OxK",
      "include_colab_link": true
    },
    "kernelspec": {
      "name": "python3",
      "display_name": "Python 3"
    }
  },
  "cells": [
    {
      "cell_type": "markdown",
      "metadata": {
        "id": "view-in-github",
        "colab_type": "text"
      },
      "source": [
        "<a href=\"https://colab.research.google.com/github/lunayee/note/blob/main/formatm%E7%94%A8%E6%B3%95.ipynb\" target=\"_parent\"><img src=\"https://colab.research.google.com/assets/colab-badge.svg\" alt=\"Open In Colab\"/></a>"
      ]
    },
    {
      "cell_type": "code",
      "metadata": {
        "id": "lIlJkbacPev7"
      },
      "source": [
        "a='{0} love {1} {2}'.format('i','you','baby')\n",
        "print(a)\n",
        "\n",
        "a='{a} love {b} {c}'.format(a='i',c='you',b='baby')\n",
        "print(a)\n",
        "\n",
        "a='%c %c %c' % (97,98,99)#記得小寫#\n",
        "print(a)\n",
        "\n",
        "a='%d+%d=%d' % (4,5,4+5)#記得小寫#\n",
        "print(a)\n",
        "\n",
        "a=[int(c) for c in str(63252)]#把字串轉成單一矩陣數列#\n",
        "print(a)"
      ],
      "execution_count": null,
      "outputs": []
    }
  ]
}